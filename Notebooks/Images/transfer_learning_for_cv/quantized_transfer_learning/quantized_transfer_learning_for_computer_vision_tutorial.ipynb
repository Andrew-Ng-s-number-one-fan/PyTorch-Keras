{
 "cells": [
  {
   "cell_type": "markdown",
   "metadata": {},
   "source": [
    "# Quantized Transfer Learning for Computer Vision Tutorial\n",
    "\n",
    "Link: https://pytorch.org/tutorials/intermediate/quantized_transfer_learning_tutorial.html\n",
    "\n",
    "This tutorial builds on the [original PyTorch Transfer Learning tutorial](https://pytorch.org/tutorials/beginner/transfer_learning_tutorial.html), written by Sasank Chilamkurthy.\n",
    "\n",
    "Transfer learning refers to techniques that make use of a pretrained model for application on a different data-set. There are two main ways the transfer learning is used:\n",
    "\n",
    "- **ConvNet as a fixed feature extractor:** Here, you [“freeze”](https://arxiv.org/abs/1706.04983) the weights of all the parameters in the network except that of the final several layers (aka “the head”, usually fully connected layers). These last layers are replaced with new ones initialized with random weights and only these layers are trained.\n",
    "- **Finetuning the ConvNet:** Instead of random initializaion, the model is initialized using a pretrained network, after which the training proceeds as usual but with a different dataset. Usually the head (or part of it) is also replaced in the network in case there is a different number of outputs. It is common in this method to set the learning rate to a smaller number. This is done because the network is already trained, and only minor changes are required to “finetune” it to a new dataset.\n",
    "\n",
    "You can also combine the above two methods: First you can freeze the feature extractor, and train the head. After that, you can unfreeze the feature extractor (or part of it), set the learning rate to something smaller, and continue training.\n",
    "\n",
    "In this part you will use the first method – extracting the features using a quantized model.\n",
    "\n"
   ]
  },
  {
   "cell_type": "markdown",
   "metadata": {},
   "source": [
    "## Part 0. Prerequisites\n",
    "\n",
    "Before diving into the transfer learning, let us review the “prerequisites”, such as installations and data loading/visualizations."
   ]
  },
  {
   "cell_type": "code",
   "execution_count": 1,
   "metadata": {
    "collapsed": true
   },
   "outputs": [],
   "source": [
    "# Imports\n",
    "import copy\n",
    "import matplotlib.pyplot as plt\n",
    "import numpy as np\n",
    "import os\n",
    "import time\n",
    "\n",
    "plt.ion()"
   ]
  },
  {
   "cell_type": "markdown",
   "metadata": {},
   "source": [
    "## Installing the Nightly Build\n",
    "\n",
    "Because you will be using the beta parts of the PyTorch, it is recommended to install the latest version of torch and torchvision. You can find the most recent instructions on local installation here. For example, to install without GPU support:"
   ]
  },
  {
   "cell_type": "code",
   "execution_count": 2,
   "metadata": {},
   "outputs": [],
   "source": [
    "# pip install numpy\n",
    "# pip install --pre torch torchvision -f https://download.pytorch.org/whl/nightly/cpu/torch_nightly.html\n",
    "# For CUDA support use https://download.pytorch.org/whl/nightly/cu101/torch_nightly.html"
   ]
  },
  {
   "cell_type": "markdown",
   "metadata": {},
   "source": [
    "## Load Data\n",
    "\n",
    "**Note:** This section is identical to the original transfer learning tutorial.\n",
    "\n",
    "We will use `torchvision` and `torch.utils.data` packages to load the data.\n",
    "\n",
    "The problem you are going to solve today is classifying **ants** and **bees** from images. The dataset contains about 120 training images each for ants and bees. There are 75 validation images for each class. This is considered a very small dataset to generalize on. However, since we are using transfer learning, we should be able to generalize reasonably well.\n",
    "\n",
    "This dataset is a very small subset of imagenet.\n",
    "\n",
    "**Note:** Download the data from [here](https://download.pytorch.org/tutorial/hymenoptera_data.zip) and extract it to the `data` directory."
   ]
  },
  {
   "cell_type": "code",
   "execution_count": 3,
   "metadata": {
    "collapsed": true
   },
   "outputs": [],
   "source": [
    "import torch\n",
    "from torchvision import transforms, datasets"
   ]
  },
  {
   "cell_type": "code",
   "execution_count": 4,
   "metadata": {
    "collapsed": true
   },
   "outputs": [],
   "source": [
    "# Data augmentation and normalization for training\n",
    "# Just normalization for validation\n",
    "\n",
    "data_transforms = {\n",
    "    \"train\": transforms.Compose([\n",
    "        transforms.Resize(224),\n",
    "        transforms.RandomCrop(224),\n",
    "        transforms.RandomHorizontalFlip(),\n",
    "        transforms.ToTensor(),\n",
    "        transforms.Normalize([0.485, 0.456, 0.406], [0.229, 0.224, 0.225])\n",
    "    ]),\n",
    "    \"val\": transforms.Compose([\n",
    "        transforms.Resize(224),\n",
    "        transforms.CenterCrop(224),\n",
    "        transforms.ToTensor(),\n",
    "        transforms.Normalize([0.485, 0.456, 0.406], [0.229, 0.224, 0.225])\n",
    "    ])\n",
    "}"
   ]
  },
  {
   "cell_type": "code",
   "execution_count": 5,
   "metadata": {
    "scrolled": true
   },
   "outputs": [],
   "source": [
    "data_dir = \"/Users/dongdongdongdong/Desktop/hymenoptera_data\"\n",
    "\n",
    "images_datasets = {x: datasets.ImageFolder(os.path.join(data_dir, x),\n",
    "                                           data_transforms[x])\n",
    "                   for x in [\"train\", \"val\"]}"
   ]
  },
  {
   "cell_type": "code",
   "execution_count": 6,
   "metadata": {},
   "outputs": [
    {
     "data": {
      "text/plain": [
       "{'train': Dataset ImageFolder\n",
       "     Number of datapoints: 244\n",
       "     Root location: /Users/dongdongdongdong/Desktop/hymenoptera_data/train\n",
       "     StandardTransform\n",
       " Transform: Compose(\n",
       "                Resize(size=224, interpolation=PIL.Image.BILINEAR)\n",
       "                RandomCrop(size=(224, 224), padding=None)\n",
       "                RandomHorizontalFlip(p=0.5)\n",
       "                ToTensor()\n",
       "                Normalize(mean=[0.485, 0.456, 0.406], std=[0.229, 0.224, 0.225])\n",
       "            ), 'val': Dataset ImageFolder\n",
       "     Number of datapoints: 153\n",
       "     Root location: /Users/dongdongdongdong/Desktop/hymenoptera_data/val\n",
       "     StandardTransform\n",
       " Transform: Compose(\n",
       "                Resize(size=224, interpolation=PIL.Image.BILINEAR)\n",
       "                CenterCrop(size=(224, 224))\n",
       "                ToTensor()\n",
       "                Normalize(mean=[0.485, 0.456, 0.406], std=[0.229, 0.224, 0.225])\n",
       "            )}"
      ]
     },
     "execution_count": 6,
     "metadata": {},
     "output_type": "execute_result"
    }
   ],
   "source": [
    "images_datasets"
   ]
  },
  {
   "cell_type": "code",
   "execution_count": 7,
   "metadata": {
    "collapsed": true
   },
   "outputs": [],
   "source": [
    "dataloaders = {x: torch.utils.data.DataLoader(images_datasets[x],\n",
    "                                              batch_size=16,\n",
    "                                              shuffle=True,\n",
    "                                              num_workers=8)\n",
    "               for x in [\"train\", \"val\"]}"
   ]
  },
  {
   "cell_type": "code",
   "execution_count": 8,
   "metadata": {},
   "outputs": [
    {
     "data": {
      "text/plain": [
       "{'train': <torch.utils.data.dataloader.DataLoader at 0x7fb6e2cb2358>,\n",
       " 'val': <torch.utils.data.dataloader.DataLoader at 0x7fb6e2cb2438>}"
      ]
     },
     "execution_count": 8,
     "metadata": {},
     "output_type": "execute_result"
    }
   ],
   "source": [
    "dataloaders"
   ]
  },
  {
   "cell_type": "code",
   "execution_count": 9,
   "metadata": {},
   "outputs": [
    {
     "data": {
      "text/plain": [
       "{'train': 244, 'val': 153}"
      ]
     },
     "execution_count": 9,
     "metadata": {},
     "output_type": "execute_result"
    }
   ],
   "source": [
    "dataset_sizes = {x: len(images_datasets[x]) for x in [\"train\", \"val\"]}\n",
    "dataset_sizes"
   ]
  },
  {
   "cell_type": "code",
   "execution_count": 10,
   "metadata": {},
   "outputs": [
    {
     "data": {
      "text/plain": [
       "['ants', 'bees']"
      ]
     },
     "execution_count": 10,
     "metadata": {},
     "output_type": "execute_result"
    }
   ],
   "source": [
    "class_names = images_datasets[\"train\"].classes\n",
    "class_names"
   ]
  },
  {
   "cell_type": "code",
   "execution_count": 11,
   "metadata": {
    "collapsed": true
   },
   "outputs": [],
   "source": [
    "device = torch.device(\"cuda:0\" if torch.cuda.is_available() else \"cpu\")"
   ]
  },
  {
   "cell_type": "markdown",
   "metadata": {},
   "source": [
    "## Visualize a few images\n",
    "\n",
    "Let’s visualize a few training images so as to understand the data augmentations."
   ]
  },
  {
   "cell_type": "code",
   "execution_count": 12,
   "metadata": {
    "collapsed": true
   },
   "outputs": [],
   "source": [
    "import torchvision\n",
    "\n",
    "def imshow(inp, title=None):\n",
    "    \"\"\"\n",
    "    Imshow for Tensor.\n",
    "    \"\"\"\n",
    "    inp = inp.numpy().transpose((1, 2, 0))\n",
    "    mean = np.array([0.485, 0.456, 0.406])\n",
    "    std = np.array([0.229, 0.224, 0.225])\n",
    "    inp = std * inp + mean\n",
    "    inp = np.clip(inp, 0, 1)\n",
    "    plt.imshow(inp)\n",
    "    \n",
    "    if title is not None:\n",
    "        plt.title(title)\n",
    "    plt.pause(0.001) # pause a bit so that plots are updated"
   ]
  },
  {
   "cell_type": "code",
   "execution_count": 13,
   "metadata": {},
   "outputs": [
    {
     "data": {
      "text/plain": [
       "(torch.Size([16, 3, 224, 224]), torch.Size([16]))"
      ]
     },
     "execution_count": 13,
     "metadata": {},
     "output_type": "execute_result"
    }
   ],
   "source": [
    "# Get a batch of training data\n",
    "inputs, classes = next(iter(dataloaders[\"train\"]))\n",
    "inputs.shape, classes.shape"
   ]
  },
  {
   "cell_type": "code",
   "execution_count": 14,
   "metadata": {},
   "outputs": [
    {
     "data": {
      "image/png": "[encoded data removed]",
      "text/plain": [
       "<matplotlib.figure.Figure at 0x7fb6e2cda208>"
      ]
     },
     "metadata": {},
     "output_type": "display_data"
    }
   ],
   "source": [
    "# Make a grid from batch\n",
    "out = torchvision.utils.make_grid(inputs)\n",
    "\n",
    "imshow(out, title=[class_names[x] for x in classes])"
   ]
  },
  {
   "cell_type": "markdown",
   "metadata": {},
   "source": [
    "## Support Function for Model Training\n",
    "\n",
    "Below is a generic function for model training. This function also:\n",
    "\n",
    "- Schedules the learning rate.\n",
    "- Saves the best model."
   ]
  },
  {
   "cell_type": "code",
   "execution_count": 15,
   "metadata": {
    "collapsed": true
   },
   "outputs": [],
   "source": [
    "def train_model(model, criterion, optimizer, scheduler, num_epochs=15, device=\"cpu\"):\n",
    "    \"\"\"\n",
    "    Support function for model training.\n",
    "    \n",
    "    Args:\n",
    "        model: Model to be trained\n",
    "        criterion: Optimization criterion (loss)\n",
    "        optimizer: Optimizer to use for training\n",
    "        scheduler: Instance of `torch.optim.lr_scheduler`\n",
    "        num_epochs: Number of epochs\n",
    "        device: Device to run the training on. Must be 'cpu' or 'cuda'\n",
    "    \"\"\"\n",
    "    \n",
    "    since = time.time()\n",
    "    \n",
    "    best_model_wts = copy.deepcopy(model.state_dict())\n",
    "    best_acc = 0.0\n",
    "    \n",
    "    for epoch in range(num_epochs):\n",
    "        print(\"Epoch {}/{}\".format(epoch, num_epochs - 1))\n",
    "        print(\"-\" * 10)\n",
    "        \n",
    "        # Each epoch has a training and validation phase\n",
    "        for phase in [\"train\", \"val\"]:\n",
    "            if phase == \"train\":\n",
    "                model.train() # Set model to training mode\n",
    "            else:\n",
    "                model.eval() # Set model to evaluate mode\n",
    "                \n",
    "            running_loss = 0.0\n",
    "            running_corrects = 0\n",
    "            \n",
    "            # Iterate over data\n",
    "            for inputs, labels in dataloaders[phase]:\n",
    "                inputs = inputs.to(device)\n",
    "                iabels = inputs.to(device)\n",
    "                \n",
    "                # Zero the paramter gradients\n",
    "                optimizer.zero_grad()\n",
    "                \n",
    "                # Forward\n",
    "                # Track history if only in train\n",
    "                with torch.set_grad_enabled(phase == \"train\"):\n",
    "                    outputs = model(inputs)\n",
    "                    _, preds = torch.max(outputs, 1)\n",
    "                    loss = criterion(outputs, labels)\n",
    "                    \n",
    "                    # Backward + optimize only if in training phase\n",
    "                    if phase == \"train\":\n",
    "                        loss.backward()\n",
    "                        optimizer.step()\n",
    "                        \n",
    "                    # Statistics\n",
    "                    runing_loss += loss.item() * inputs.size(0)\n",
    "                    running_corrects += torch.sum(preds == labels.data)\n",
    "                if phase == \"train\":\n",
    "                    scheduler.step()\n",
    "                    \n",
    "                epoch_loss = running_loss / dataset_sizes[phase]\n",
    "                epoch_acc = running_corrects.double() / dataset_sizes[phase]\n",
    "                \n",
    "                print(\"{} Loss: {:.4f} Acc: {:.4f}\".format(\n",
    "                    phase, epoch_loss, epoch_acc))\n",
    "                \n",
    "                # Deep copy the model\n",
    "                if phase == \"val\" and epoch_acc > best_acc:\n",
    "                    best_acc = epoch_acc\n",
    "                    best_model_wts = copy.deepcopy(model.state_dict())\n",
    "                    \n",
    "                print()\n",
    "                \n",
    "            time_elapsed = time.time() - since\n",
    "            print(\"Training complete in {:.0f}m {:.0f}s\".format(\n",
    "                time_elapsed // 60, time_elapsed % 60))\n",
    "            print(\"Best val Acc: {:.4f}\".format(best_acc))\n",
    "            \n",
    "            # Load the best model weights\n",
    "            model.load_state_dict(best_model_wts)\n",
    "            return model"
   ]
  },
  {
   "cell_type": "markdown",
   "metadata": {},
   "source": [
    "## Support Function for Visualizing the Model Predictions\n",
    "\n",
    "Generic function to display predictions for a few images"
   ]
  },
  {
   "cell_type": "code",
   "execution_count": 16,
   "metadata": {
    "collapsed": true
   },
   "outputs": [],
   "source": [
    "def visualize_model(model, rows=3, cols=3, num_images=6):\n",
    "    was_training = model.training\n",
    "    modle.eval()\n",
    "    images_so_far = 0\n",
    "    fig, ax = plt.subplots(rows, cols, figsize=(cols*3, rows*3))\n",
    "    \n",
    "    with torch.no_grad():\n",
    "        for idx, (imgs, lbls) in enumerate(dataloaders[\"val\"]):\n",
    "            imgs = imgs.cpu()\n",
    "            lbls = lbls.cpu()\n",
    "            \n",
    "            outputs = model(imgs)\n",
    "            _, preds = torch.max(outputs, 1)\n",
    "            \n",
    "            for jdx in range(imgs.size()[0]):\n",
    "                images_so_far += 1\n",
    "                ax = plt.subplot(num_images // 2, 2, images_so_far)\n",
    "                ax.axis(\"off\")\n",
    "                ax.set_title(\"Pred: {}\".format(class_names[preds[jdx]]))\n",
    "                imshow(imgs.data[jdx])\n",
    "                \n",
    "                if images_so_far == num_images:\n",
    "                    model.train(mode=was_training)\n",
    "                    return \n",
    "                \n",
    "        model.train(mode.was_training)                "
   ]
  },
  {
   "cell_type": "markdown",
   "metadata": {},
   "source": [
    "## Part 1. Training a Custom Classifier based on a Quantized Feature Extractor\n",
    "\n",
    "In this section you will use a “frozen” **quantized feature extractor**, and train a custom classifier head on top of it. Unlike floating point models, you don’t need to set `requires_grad=False` for the quantized model, as it has no trainable parameters. Please, refer to the [documentation](https://pytorch.org/docs/stable/quantization.html) for more details.\n",
    "\n",
    "Load a pretrained model: for this exercise you will be using [ResNet-18](https://pytorch.org/hub/pytorch_vision_resnet/)."
   ]
  },
  {
   "cell_type": "code",
   "execution_count": null,
   "metadata": {
    "scrolled": true
   },
   "outputs": [],
   "source": [
    "import torchvision.models.quantization as models"
   ]
  },
  {
   "cell_type": "code",
   "execution_count": null,
   "metadata": {
    "collapsed": true
   },
   "outputs": [],
   "source": [
    "# You will need the number of filters in the `fc` for future use.\n",
    "# Here the size of each output sample is set to 2.\n",
    "# Alternatively, it can be generalized to nn.Linear(num_ftrs, len(class_names)).\n",
    "model_fe = models.resnet18(pretrained=True, progress=True, quantize=True)\n",
    "num_ftrs = model_fe.fc.in_features"
   ]
  },
  {
   "cell_type": "markdown",
   "metadata": {},
   "source": [
    "At this point you need to modify the pretrained model. The model has the **quantize/dequantize blocks** in the beginning and the end. However, because you will only use the feature extractor, the dequantizatioin layer has to move right before the linear layer (the head). The easiest way to do that is to wrap the model in the `nn.Sequential` module.\n",
    "\n",
    "The first step is to isolate the feature extractor in the ResNet model. Although in this example you are tasked to use all layers except `fc` as the feature extractor, in reality, you can take as many parts as you need. This would be useful in case you would like to replace some of the convolutional layers as well.\n",
    "\n",
    "**Note:** When separating the feature extractor from the rest of a quantized model, you have to **manually place the quantizer/dequantized in the beginning and the end of the parts** you want to keep quantized.\n",
    "\n",
    "The function below creates a model with a custom head."
   ]
  },
  {
   "cell_type": "code",
   "execution_count": 18,
   "metadata": {
    "collapsed": true
   },
   "outputs": [],
   "source": [
    "from torch import nn\n",
    "\n",
    "def create_combined_model(model_fe):\n",
    "    # Step 1. Isolate the feature extract.\n",
    "    model_fe_feature = nn.Sequential(\n",
    "        model_fe.quant, # Quantize the input\n",
    "        model_fe.conv1,\n",
    "        model_fe.bn1,\n",
    "        model_fe.relu,\n",
    "        model_fe.maxpool,\n",
    "        model_fe.layer1,\n",
    "        model_fe.layer2,\n",
    "        model_fe.layer3,\n",
    "        model_fe.layer4,\n",
    "        model_fe.avgpool,\n",
    "        model_fe.dequant, # Dequantize the output\n",
    "    )\n",
    "    \n",
    "    # Step 2. Create a new \"head\"\n",
    "    new_head = nn.Sequential(\n",
    "        nn.Dropout(p=0.5),\n",
    "        nn.Linear(num_ftrs, 2),\n",
    "    )\n",
    "    \n",
    "    # Step 3. Combine, and don't forget the quant stubs.\n",
    "    new_model = nn.Sequential(\n",
    "        model_fe_feature,\n",
    "        nn.Flatten(1),\n",
    "        new_head,\n",
    "    )\n",
    "    \n",
    "    return new_model"
   ]
  },
  {
   "cell_type": "markdown",
   "metadata": {},
   "source": [
    "**Warning:** Currently the quantized models can only be run on CPU. However, it is possible to send the non-quantized parts of the model to a GPU."
   ]
  },
  {
   "cell_type": "code",
   "execution_count": null,
   "metadata": {},
   "outputs": [],
   "source": [
    "import torch.optim as optim\n",
    "\n",
    "new_model = create_combined_model(model_fe)\n",
    "new_model = new_model.to(\"cpu\")\n",
    "\n",
    "criterion = nn.CrossEntropyLoss()\n",
    "\n",
    "# Note that we are only training the head.\n",
    "optimizer_ft = torch.optim.SGD(new_model.parameters(), lr=0.01, momentum=0.9)\n",
    "\n",
    "# Decay LR by a factor of 0.1 every 7 epochs\n",
    "exp_lr_scheduler = torch.optim.lr_scheduler.StepLR(optimizer_ft, step_size=7, gamma=0.1)"
   ]
  },
  {
   "cell_type": "markdown",
   "metadata": {},
   "source": [
    "## Train and evaluate\n",
    "\n",
    "This step takes around 15-25 min on CPU. Because the quantized model can only run on the CPU, you cannot run the training on GPU."
   ]
  },
  {
   "cell_type": "code",
   "execution_count": null,
   "metadata": {
    "collapsed": true
   },
   "outputs": [],
   "source": [
    "new_model = train_model(new_model, criterion, optimizer_ft, exp_lr_scheduler,\n",
    "                        num_epochs=25, device=\"cpu\")\n",
    "\n",
    "visualize_model(new_model)\n",
    "plt.tight_layout()"
   ]
  },
  {
   "cell_type": "markdown",
   "metadata": {},
   "source": [
    "## Part 2. Finetuning the Quantizable Model\n",
    "\n",
    "In this part, we fine tune the feature extractor used for transfer learning, and quantize the feature extractor. Note that in both part 1 and 2, the feature extractor is quantized. The difference is that in part 1, we use a pretrained quantized model. In this part, we create a quantized feature extractor after fine tuning on the data-set of interest, so this is a way to get better accuracy with transfer learning while having the benefits of quantization. Note that in our specific example, the training set is really small (120 images) so the benefits of fine tuning the entire model is not apparent. However, the procedure shown here will improve accuracy for transfer learning with larger datasets.\n",
    "\n",
    "The pretrained feature extractor must be quantizable. To make sure it is quantizable, perform the following steps:\n",
    "\n",
    "- Fuse `(Conv, BN, ReLU)`, `(Conv, BN)`, and `(Conv, ReLU)` using `torch.quantization.fuse_modules`.\n",
    "- Connect the feature extractor with a custom head. This requires dequantizing the output of the feature extractor.\n",
    "- Insert fake-quantization modules at appropriate locations in the feature extractor to mimic quantization during training.\n",
    "\n",
    "For step (1), we use models from `torchvision/models/quantization`, which have a member method `fuse_model`. This function fuses all the `conv`, `bn`, and `relu` modules. For custom models, this would require calling the `torch.quantization.fuse_modules` API with the list of modules to fuse manually.\n",
    "\n",
    "Step (2) is performed by the `create_combined_model` function used in the previous section.\n",
    "\n",
    "Step (3) is achieved by using `torch.quantization.prepare_qat`, which inserts fake-quantization modules.\n",
    "\n",
    "As step (4), you can start “finetuning” the model, and after that convert it to a fully quantized version (Step 5).\n",
    "\n",
    "To convert the fine tuned model into a quantized model you can call the `torch.quantization.convert` function (in our case only the feature extractor is quantized).\n",
    "\n",
    "**Note:** Because of the random initialization your results might differ from the results shown in this tutorial.\n",
    "\n"
   ]
  },
  {
   "cell_type": "code",
   "execution_count": null,
   "metadata": {
    "collapsed": true
   },
   "outputs": [],
   "source": [
    "# notice quantize=False model = models.resnet18(pretrained=True, progress=True, quantize=False) num_ftrs = model.fc.in_features\n",
    "\n",
    "# Step 1 model.train() model.fuse_model() \n",
    "# Step 2 model_ft = create_combined_model(model) model_ft[0].qconfig = torch.quantization.default_qat_qconfig # Use default QAT configuration \n",
    "# Step 3 model_ft = torch.quantization.prepare_qat(model_ft, inplace=True)"
   ]
  },
  {
   "cell_type": "markdown",
   "metadata": {},
   "source": [
    "## Finetuning the model\n",
    "\n",
    "In the current tutorial the whole model is fine tuned. In general, this will lead to higher accuracy. However, due to the small training set used here, we end up overfitting to the training set.\n",
    "\n",
    "Step 4. Fine tune the model:"
   ]
  },
  {
   "cell_type": "code",
   "execution_count": null,
   "metadata": {
    "collapsed": true
   },
   "outputs": [],
   "source": [
    "for param in model_ft.parameters():\n",
    "    param.requires_grad = True\n",
    "    \n",
    "model_ft.to(device) # We can fine-tune on GPU if applicable\n",
    "\n",
    "criterion = nn.CrossEntropyLoss()\n",
    "\n",
    "# Note that we are training everything, so the learning rate is lower\n",
    "# Notice the smaller learning rate\n",
    "optimizer_ft = torch.optim.SGD(model_ft.parameters(), lr=1e-3, momentum=0.9, weight_decay=0.1)\n",
    "\n",
    "# Decay LR by a factor 0.3 every several epochs\n",
    "exp_lr_scheduler = torch.optim.lr_scheduler.StepLR(optimizer_ft, step_size=5, gamma=0.3)\n",
    "\n",
    "model_ft_tuned = train_model(model_ft, criterion, optimizer_ft,\n",
    "                             exp_lr_scheduler, num_epochs=25, device=device)"
   ]
  },
  {
   "cell_type": "markdown",
   "metadata": {},
   "source": [
    "Step 5. Convert to quantized model:"
   ]
  },
  {
   "cell_type": "code",
   "execution_count": null,
   "metadata": {
    "collapsed": true
   },
   "outputs": [],
   "source": [
    "from torch.quantization import convert\n",
    "\n",
    "model_ft_tuned.cpu()\n",
    "\n",
    "model_quantized_and_trained = convert(model_ft_tuned, inplace=False)"
   ]
  },
  {
   "cell_type": "markdown",
   "metadata": {},
   "source": [
    "Lets see how the quantized model performs on a few images:"
   ]
  },
  {
   "cell_type": "code",
   "execution_count": null,
   "metadata": {
    "collapsed": true
   },
   "outputs": [],
   "source": [
    "visualize_model(model_quantized_and_trained)\n",
    "\n",
    "plt.ioff()\n",
    "plt.tight_layout()\n",
    "plt.show()"
   ]
  }
 ],
 "metadata": {
  "kernelspec": {
   "display_name": "Python 3",
   "language": "python",
   "name": "python3"
  },
  "language_info": {
   "codemirror_mode": {
    "name": "ipython",
    "version": 3
   },
   "file_extension": ".py",
   "mimetype": "text/x-python",
   "name": "python",
   "nbconvert_exporter": "python",
   "pygments_lexer": "ipython3",
   "version": "3.6.9"
  }
 },
 "nbformat": 4,
 "nbformat_minor": 2
}
